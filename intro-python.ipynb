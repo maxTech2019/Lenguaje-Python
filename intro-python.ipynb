{
 "cells": [
  {
   "cell_type": "markdown",
   "id": "cc73ddae-4c44-4f05-b24d-4667e4724eeb",
   "metadata": {},
   "source": [
    "# Introducción a Python."
   ]
  },
  {
   "cell_type": "markdown",
   "id": "a3233928-b1dc-4846-8bf4-073bcbb7e88b",
   "metadata": {},
   "source": [
    "---"
   ]
  },
  {
   "cell_type": "markdown",
   "id": "17d17a85-1f57-47b7-a6c7-9a19086c0233",
   "metadata": {},
   "source": [
    "## Resultados de Aprendizaje:"
   ]
  },
  {
   "cell_type": "markdown",
   "id": "74ef0fba-4d74-42c2-916a-56a15688bf72",
   "metadata": {},
   "source": [
    "<ul type=\"A\">\n",
    "    <li>Comprenderá los principios básicos del lenguaje de programación Python.</li>\n",
    "    <li>Familiarizarse con la sintaxis y la estructura del lenguaje Python.</li>\n",
    "    <li>Establecer las bases para el desarrollo de programas en Python.</li>\n",
    "</ul>"
   ]
  },
  {
   "cell_type": "markdown",
   "id": "b4a9a3f7-5b3f-4b8a-875a-9b0d3b3496f7",
   "metadata": {},
   "source": [
    "## Unas sugerencias antes de iniciar:"
   ]
  },
  {
   "cell_type": "markdown",
   "id": "77bc4de8-1cbf-4358-8865-f2e99c063546",
   "metadata": {},
   "source": [
    "<ol>\n",
    " <li>Toda pregunta es BUENA y VÁLIDA, Si algo no esta clara con gusto puedo repetir la explicación</li>\n",
    " <li>Este es un lugar seguro para aprender y participar </li>\n",
    " <li>Esta BIEN no saber</li>\n",
    "</ol>"
   ]
  },
  {
   "cell_type": "markdown",
   "id": "29ca10c6-93b2-4856-88d9-49270798071b",
   "metadata": {},
   "source": [
    "## ¿Qué es <b>Python</b>?"
   ]
  },
  {
   "cell_type": "markdown",
   "id": "23f9a803-d545-462b-b452-f38049c2883e",
   "metadata": {},
   "source": [
    "<img src=\"./image/logo_python.jpeg\" alt=\"Logo Python\"/>"
   ]
  },
  {
   "cell_type": "markdown",
   "id": "99fda37f-749c-4710-8d15-3bfa27479434",
   "metadata": {},
   "source": [
    "#### <b>Python</b> es un lenguaje de programación de alto nivel, interpretado y de propósito general, versátil y fácil de aprender.\n",
    "##### <a href=\"https://python-docs-es.readthedocs.io/es/3.10/tutorial/index.html\">Documentación oficial de Python</a>"
   ]
  },
  {
   "cell_type": "markdown",
   "id": "b90fcd7a-c9be-4108-8152-1d9ebb6435e8",
   "metadata": {},
   "source": [
    "## Agenda:"
   ]
  },
  {
   "cell_type": "markdown",
   "id": "38f3c560-d7e1-40d3-9b6e-5c494cc336d5",
   "metadata": {},
   "source": [
    "<h5><ul>\n",
    "    <li>Tipos de datos y Variables.</li><br/>\n",
    "    <li>Operadores Aritméticos.</li><br/>\n",
    "    <li>Estructuras de Control.</li><br/>\n",
    "    <li>Funciones definidas por el usuario.</li><br/>\n",
    "    <li>Programación Orientada a Objetos.</li>"
   ]
  },
  {
   "cell_type": "markdown",
   "id": "d06f6eee-e16b-4ed6-90af-7bf373698639",
   "metadata": {},
   "source": [
    "## Tipos de Datos y Variables."
   ]
  },
  {
   "cell_type": "markdown",
   "id": "0be9a1ba-802f-4e81-9242-e4ec912ac8b3",
   "metadata": {},
   "source": [
    "### Numéros"
   ]
  },
  {
   "cell_type": "code",
   "execution_count": null,
   "id": "0553c915-0837-43b1-9b01-0da1af1ef5ed",
   "metadata": {},
   "outputs": [],
   "source": [
    "2 + 2"
   ]
  },
  {
   "cell_type": "code",
   "execution_count": null,
   "id": "934fa93b-ba2e-4018-8bff-808ed02ce775",
   "metadata": {},
   "outputs": [],
   "source": [
    "50 - 5*6"
   ]
  },
  {
   "cell_type": "code",
   "execution_count": null,
   "id": "fb07f3e1-af76-483e-8119-65cab5d1100d",
   "metadata": {},
   "outputs": [],
   "source": [
    "(50 - 5*6) / 4"
   ]
  },
  {
   "cell_type": "code",
   "execution_count": null,
   "id": "20a824fb-c23c-44f0-88b2-bb1c06af26c0",
   "metadata": {},
   "outputs": [],
   "source": [
    "4.5 - 5.6 - 2.3"
   ]
  },
  {
   "cell_type": "code",
   "execution_count": null,
   "id": "c415234e-3099-48c3-a874-fefd69de63eb",
   "metadata": {},
   "outputs": [],
   "source": [
    "8 / 5  # la división siempre devuelve un número punto flotante"
   ]
  },
  {
   "cell_type": "code",
   "execution_count": null,
   "id": "31c9a96d-9555-42b3-9783-905d77d59871",
   "metadata": {},
   "outputs": [],
   "source": [
    "17 // 3  # descarta la parte fraccionaria"
   ]
  },
  {
   "cell_type": "code",
   "execution_count": null,
   "id": "da6fcd07-7010-4252-b5db-635e5ee1500a",
   "metadata": {},
   "outputs": [],
   "source": [
    "17 % 3  # operador % retorna el resto de la división"
   ]
  },
  {
   "cell_type": "code",
   "execution_count": null,
   "id": "689b6a5d-b02a-43d6-9b43-a4ff1e49ab4d",
   "metadata": {},
   "outputs": [],
   "source": [
    "5 ** 2  # 5 elevado al cuadrado"
   ]
  },
  {
   "cell_type": "code",
   "execution_count": null,
   "id": "3dbc5b4b-3453-478d-a60d-f19e066a4962",
   "metadata": {},
   "outputs": [],
   "source": [
    "2 ** 7  # 2 elevado a la potencia 7"
   ]
  },
  {
   "cell_type": "markdown",
   "id": "dbef9292-b21c-4afb-9b3b-ad157e081ec9",
   "metadata": {},
   "source": [
    "<span>El signo igual <b>( = )</b> se usa para asignar un valor a una <b>variable</b>. </span>"
   ]
  },
  {
   "cell_type": "code",
   "execution_count": null,
   "id": "08b8e150-851c-4674-bb78-4dfb07445eb3",
   "metadata": {},
   "outputs": [],
   "source": [
    "ancho = 20"
   ]
  },
  {
   "cell_type": "code",
   "execution_count": null,
   "id": "f216b495-2b70-4a55-ac1e-f77e99489ccf",
   "metadata": {},
   "outputs": [],
   "source": [
    "alto = 5 * 9"
   ]
  },
  {
   "cell_type": "markdown",
   "id": "26f2480d-9f70-4030-b270-9e50d93be5d1",
   "metadata": {},
   "source": [
    "<span>Si una variable no está «definida» (no se le ha asignado un valor), al intentar usarla dará un error:</span>"
   ]
  },
  {
   "cell_type": "code",
   "execution_count": null,
   "id": "e380e199-0724-4110-9aaa-ada3771b140d",
   "metadata": {},
   "outputs": [],
   "source": [
    "print(nunca)"
   ]
  },
  {
   "cell_type": "markdown",
   "id": "31b88bbc-a028-483c-8132-391e187e3f0c",
   "metadata": {},
   "source": [
    "<span>Los <b>operadores aritméticos</b> siguen las reglas de precedencia que usted podría haber aprendido como PEMDAS:</span>"
   ]
  },
  {
   "cell_type": "markdown",
   "id": "c1191902-49c4-4751-ad76-23be4cce6d83",
   "metadata": {},
   "source": [
    "<ul>\n",
    "    <li>Parentesis.</li>\n",
    "    <li>Exponentes.</li>\n",
    "    <li>Multiplicación y división.</li>\n",
    "    <li>Adición y resta.</li>\n",
    "</ul>"
   ]
  },
  {
   "cell_type": "markdown",
   "id": "f6215885-c0cb-43e7-a26c-77f3b9e6172a",
   "metadata": {},
   "source": [
    "### Cadena de caracteres"
   ]
  },
  {
   "cell_type": "markdown",
   "id": "a1e76a74-f170-4f31-99b0-7c6984e948bb",
   "metadata": {},
   "source": [
    "<span>Además de números, Python puede manipular cadenas de texto, las cuales pueden ser expresadas de distintas formas. Pueden estar encerradas en comillas simples <b>('...')</b> o dobles <b>(\"...\")</b> con el mismo resultado. El caracter \\ puede ser usado para escapar comillas.</span>"
   ]
  },
  {
   "cell_type": "code",
   "execution_count": null,
   "id": "f1133b9d-4f2f-4063-aa02-f9252c15eb33",
   "metadata": {
    "scrolled": true
   },
   "outputs": [],
   "source": [
    "'Hola mundo python'"
   ]
  },
  {
   "cell_type": "code",
   "execution_count": null,
   "id": "ccae5bef-e56a-4d8d-a224-6481dce56eb8",
   "metadata": {},
   "outputs": [],
   "source": [
    "\"soy una cadena de caracteres\""
   ]
  },
  {
   "cell_type": "code",
   "execution_count": null,
   "id": "b616a2c2-3a87-41d9-be76-cf643f2e398d",
   "metadata": {},
   "outputs": [],
   "source": [
    "s = 'Primera linea.\\nSegunda linea.'  # \\n significa nueva linea"
   ]
  },
  {
   "cell_type": "code",
   "execution_count": null,
   "id": "366f5320-0e51-4f51-a197-6cb54e160e0e",
   "metadata": {},
   "outputs": [],
   "source": [
    "print(s)"
   ]
  },
  {
   "attachments": {},
   "cell_type": "markdown",
   "id": "a4a7c124-331a-4c5d-8524-4bed950ff1b8",
   "metadata": {},
   "source": [
    "### ¿Qué son los f-Strings?"
   ]
  },
  {
   "cell_type": "markdown",
   "id": "c3961724-5810-4e41-a842-33365da1e502",
   "metadata": {},
   "source": [
    "<span>A partir de la versión 3.6 de Python se introdujo f-Strings. También llamado <b>formateo literal de cadenas</b>. <cite>Para crear f-strings, solo tienes que agregar la letra f antes de las comillas para mostrar variables, solo tienes especificar el nombre de la variable entre llaves { }.</cite> Y al ejecutar tu código, todos los nombres de las variables serán remplazados con sus respectivos valores.</span>"
   ]
  },
  {
   "cell_type": "code",
   "execution_count": null,
   "id": "a91aa926-3709-4a4e-befa-53e46af7c5a3",
   "metadata": {},
   "outputs": [],
   "source": [
    "from datetime import datetime\n",
    "\n",
    "fechaCompleta = datetime.now()\n",
    "fechaActual = fechaCompleta.strftime('Día :%d, Mes: %m, Año: %Y')\n",
    "lenguaje = 'Python'\n",
    "mostrar = f'Estoy aprendiendo {lenguaje} el día de hoy {fechaActual}'"
   ]
  },
  {
   "cell_type": "code",
   "execution_count": null,
   "id": "ca688c43-fdc1-4ebf-b7b3-c2c919e6ffb1",
   "metadata": {},
   "outputs": [],
   "source": [
    "print(mostrar)"
   ]
  },
  {
   "cell_type": "markdown",
   "id": "e28c0869-bece-4fe7-89d5-6aae6dd64e03",
   "metadata": {},
   "source": [
    "### Booleanos"
   ]
  },
  {
   "attachments": {},
   "cell_type": "markdown",
   "id": "b420e2ad-7b47-48d5-adf0-e43fc6c0af04",
   "metadata": {},
   "source": [
    "Contiene únicamente dos elementos <b>True</b> y <b>False</b> que representan los valores lógicos verdadero y falso respectivamente.\r\n"
   ]
  },
  {
   "cell_type": "markdown",
   "id": "6258296f-2c96-4c6c-b783-d9cc8fd10af0",
   "metadata": {},
   "source": [
    "<li><b>False</b> tiene asociado el valor 0</li>\n",
    "<li><b>True</b> tiene asociado el valor 1</li>"
   ]
  },
  {
   "cell_type": "code",
   "execution_count": null,
   "id": "da52b1ba-db85-4c7a-93c1-9ca87d53e70d",
   "metadata": {},
   "outputs": [],
   "source": [
    "estatus = True"
   ]
  },
  {
   "cell_type": "code",
   "execution_count": null,
   "id": "d798a513-ccb3-4581-9ef4-839ff8b9a61f",
   "metadata": {},
   "outputs": [],
   "source": [
    "print(estatus)"
   ]
  },
  {
   "cell_type": "markdown",
   "id": "5accb789-8c8b-4727-a381-ff59fdf9ef3c",
   "metadata": {},
   "source": [
    "### Conversión de datos primitivos simples."
   ]
  },
  {
   "cell_type": "markdown",
   "id": "98464ddf-e6da-49d0-a627-6b295843ad4d",
   "metadata": {},
   "source": [
    "<li><b>int( )</b> Convierte a entero</li>"
   ]
  },
  {
   "cell_type": "code",
   "execution_count": null,
   "id": "c2185172-71fd-47c4-a90d-f1d9cde86835",
   "metadata": {},
   "outputs": [],
   "source": [
    "int('12')"
   ]
  },
  {
   "cell_type": "code",
   "execution_count": null,
   "id": "0a977e3e-d668-4961-be75-38a002af14e6",
   "metadata": {},
   "outputs": [],
   "source": [
    "int(True)"
   ]
  },
  {
   "cell_type": "markdown",
   "id": "4141ec0d-bf68-4776-adb0-fd22946d5669",
   "metadata": {},
   "source": [
    "<li><b>float( )</b> Convierte a real</li>"
   ]
  },
  {
   "cell_type": "code",
   "execution_count": null,
   "id": "0b7c1220-463a-4133-b849-9823bd31e70d",
   "metadata": {},
   "outputs": [],
   "source": [
    "float('12.53')"
   ]
  },
  {
   "cell_type": "code",
   "execution_count": null,
   "id": "c52b94c1-0632-4bfe-8185-7a33ef1500dd",
   "metadata": {},
   "outputs": [],
   "source": [
    "float(False)"
   ]
  },
  {
   "cell_type": "markdown",
   "id": "447d1881-edea-4bc9-be08-518e82e6b4dc",
   "metadata": {},
   "source": [
    "<li><b>str( )</b> Convierte a cadena de caracteres</li>"
   ]
  },
  {
   "cell_type": "code",
   "execution_count": null,
   "id": "5aef0b24-c990-4454-97f1-7c3705c92937",
   "metadata": {},
   "outputs": [],
   "source": [
    "str(543)"
   ]
  },
  {
   "cell_type": "code",
   "execution_count": null,
   "id": "40efbf0b-a55f-4708-bc4f-5eb41e1e8376",
   "metadata": {},
   "outputs": [],
   "source": [
    "str(True)"
   ]
  },
  {
   "cell_type": "markdown",
   "id": "689796ff-bf7d-4c2b-b2b6-6dbbc2f2860f",
   "metadata": {},
   "source": [
    "<li><b>bool( )</b> Convierte a valor lógico</li>"
   ]
  },
  {
   "cell_type": "code",
   "execution_count": null,
   "id": "305f7139-88e5-4d19-974a-39e58bb6cca9",
   "metadata": {},
   "outputs": [],
   "source": [
    "bool('0')"
   ]
  },
  {
   "cell_type": "code",
   "execution_count": null,
   "id": "908b5350-cbfc-4224-a566-420048ca2a55",
   "metadata": {},
   "outputs": [],
   "source": [
    "bool('3.14')"
   ]
  },
  {
   "cell_type": "code",
   "execution_count": null,
   "id": "dadca5e4-02bb-4d6a-a65c-e34dd0510f3f",
   "metadata": {},
   "outputs": [],
   "source": [
    "bool('')"
   ]
  },
  {
   "cell_type": "markdown",
   "id": "9ea8d60b-0508-47db-88f3-6e4fd11b07aa",
   "metadata": {},
   "source": [
    "## Operadores de Comparación."
   ]
  },
  {
   "cell_type": "markdown",
   "id": "36df92c2-1b0a-4201-8c09-306b37baa1d5",
   "metadata": {},
   "source": [
    "<li><b>==</b> (Igual que)</li>"
   ]
  },
  {
   "cell_type": "markdown",
   "id": "ff114e4b-d33a-4c20-9096-a9cf7f777032",
   "metadata": {},
   "source": [
    "<li><b>></b> (Mayor que)</li>"
   ]
  },
  {
   "cell_type": "markdown",
   "id": "52d4f5d3-c035-4121-af78-21fe456f9902",
   "metadata": {},
   "source": [
    "<li><b><</b> (Menor que)</li>"
   ]
  },
  {
   "cell_type": "markdown",
   "id": "6a7d623d-5ab7-40e6-8f9f-d78506f777b9",
   "metadata": {},
   "source": [
    "<li><b>>=</b> (Mayor Igual que)</li>"
   ]
  },
  {
   "cell_type": "markdown",
   "id": "fc1f81f4-72b0-4a2c-b8ba-1057bfb5b2c7",
   "metadata": {},
   "source": [
    "<li><b><=</b> (Menor Igual que)</li>"
   ]
  },
  {
   "cell_type": "markdown",
   "id": "bf5688d9-909e-43e4-9624-c47027c6bfa2",
   "metadata": {},
   "source": [
    "<li><b>!=</b> (Diferente que)</li>"
   ]
  },
  {
   "cell_type": "code",
   "execution_count": null,
   "id": "d9c4b14b-fbe1-441e-a3c3-5eb81176de67",
   "metadata": {},
   "outputs": [],
   "source": [
    "3 == 3"
   ]
  },
  {
   "cell_type": "code",
   "execution_count": null,
   "id": "8d90cc9c-ec78-47e2-bad4-e6815b678493",
   "metadata": {},
   "outputs": [],
   "source": [
    "3.1 <= 3"
   ]
  },
  {
   "cell_type": "code",
   "execution_count": null,
   "id": "3b1894b8-3e3e-4708-877e-4bdae09b3d36",
   "metadata": {},
   "outputs": [],
   "source": [
    "-1 != 1"
   ]
  },
  {
   "cell_type": "markdown",
   "id": "590aebe9-ba90-4ccf-bf72-cb7630754e81",
   "metadata": {},
   "source": [
    "## Operadores Lógicos (and, or, not)"
   ]
  },
  {
   "cell_type": "markdown",
   "id": "8a304b76-4761-46ed-902c-8e4235f73057",
   "metadata": {},
   "source": [
    "### Tres categorias que hay que tener en cuenta:"
   ]
  },
  {
   "cell_type": "markdown",
   "id": "5c4de7b2-d5bd-4617-993d-95f9fc8a6a73",
   "metadata": {},
   "source": [
    "<ol>\n",
    "    <li>El operador <b>and</b> evalúa si el valor de la izquierda y el de la derecha son <b>True</b>, en ese caso devuelve <b>True</b>. Si uno de los   dos valores es <b>False</b>, el resultado será <b>False</b></li>\n",
    "    <li>El operador <b>or</b> devuelve <b>True</b> cuando al menos uno de los elementos es igual a <b>True</b>. Es decir evalúa si el valor de la izquierda o el de la derecha son <b>True</b></li>\n",
    "    <li>El operador <b>not</b> simplemente invierte <b>True</b> por <b>False</b> y <b>False</b> por <b>True</b></li>\n",
    "</ol>"
   ]
  },
  {
   "cell_type": "markdown",
   "id": "21b79b24-a430-46f7-8107-eae84497e845",
   "metadata": {},
   "source": [
    "<img src=\"./image/tabla-verdad.png\" />"
   ]
  },
  {
   "cell_type": "markdown",
   "id": "e93855d8-b8ef-4a3c-a3ea-ec2a7f153c4d",
   "metadata": {},
   "source": [
    "## Listas"
   ]
  },
  {
   "cell_type": "markdown",
   "id": "918de36a-a97b-46f1-a05b-aa7f43dcfb70",
   "metadata": {},
   "source": [
    "<span>Python tiene varios tipos de datos compuestos, utilizados para agrupar otros valores. El más versátil es la lista, la cual puede ser escrita como una lista de valores separados por coma (ítems) entre corchetes. Las listas pueden contener ítems de diferentes tipos, pero usualmente los ítems son del mismo tipo.</span>"
   ]
  },
  {
   "cell_type": "code",
   "execution_count": null,
   "id": "86bf88f9-e567-430e-bc7c-512ac3c820ef",
   "metadata": {},
   "outputs": [],
   "source": [
    "numeros = [1, 4, 9, 16, 25]"
   ]
  },
  {
   "cell_type": "code",
   "execution_count": null,
   "id": "29f6dfdd-4f0c-4004-9d1b-108b2f364870",
   "metadata": {},
   "outputs": [],
   "source": [
    "type(numeros)"
   ]
  },
  {
   "cell_type": "code",
   "execution_count": null,
   "id": "d4bc0beb-f91b-495d-8e42-3a269290bfcf",
   "metadata": {},
   "outputs": [],
   "source": [
    "numeros[3] # Acceso al valor 16"
   ]
  },
  {
   "cell_type": "code",
   "execution_count": null,
   "id": "deaf328c-d400-4018-8425-4ce9d22e2e54",
   "metadata": {},
   "outputs": [],
   "source": [
    "numeros[-1] # Se puede también acceder al último elemento usando el índice [-1]."
   ]
  },
  {
   "cell_type": "code",
   "execution_count": null,
   "id": "858b510b-ac03-41c5-812f-01a24eaa1b99",
   "metadata": {},
   "outputs": [],
   "source": [
    "numeros[2] = 530  # Modificar un elemento de la lista, basta con asignar con el operador = el nuevo valor."
   ]
  },
  {
   "cell_type": "code",
   "execution_count": null,
   "id": "0e105bf5-2adb-46f3-a51b-3b3f783b8bd5",
   "metadata": {},
   "outputs": [],
   "source": [
    "numeros"
   ]
  },
  {
   "cell_type": "markdown",
   "id": "3cde9b4e-05bc-4b81-b92d-2506d145b337",
   "metadata": {},
   "source": [
    "### Métodos de las Listas"
   ]
  },
  {
   "cell_type": "code",
   "execution_count": null,
   "id": "ea6e89db-601d-44b3-bcda-f1ef8c216dd1",
   "metadata": {},
   "outputs": [],
   "source": [
    "numeros.append(32) # Añade un elemento al final de la mista"
   ]
  },
  {
   "cell_type": "code",
   "execution_count": null,
   "id": "d81344df-0cef-4f0e-8292-046b7edd7691",
   "metadata": {},
   "outputs": [],
   "source": [
    "numeros"
   ]
  },
  {
   "cell_type": "code",
   "execution_count": null,
   "id": "0fb544b5-5726-40f2-ab55-2e94ac3a2d78",
   "metadata": {},
   "outputs": [],
   "source": [
    "auxiliar = [50, 55, 60]\n",
    "numeros.extend(auxiliar)  # Añade una lista a la lista inicial."
   ]
  },
  {
   "cell_type": "code",
   "execution_count": null,
   "id": "7f06effc-7163-4c15-a60d-973807b196c6",
   "metadata": {},
   "outputs": [],
   "source": [
    "numeros"
   ]
  },
  {
   "cell_type": "code",
   "execution_count": null,
   "id": "bc71ac58-f5cd-4271-a8dd-79afd3d542f8",
   "metadata": {},
   "outputs": [],
   "source": [
    "numeros.insert(3, 950)  # Añade un elemento en una posición o índice determinado."
   ]
  },
  {
   "cell_type": "code",
   "execution_count": null,
   "id": "d006981e-e203-4b1f-ab86-72e88c3ed1bc",
   "metadata": {},
   "outputs": [],
   "source": [
    "numeros"
   ]
  },
  {
   "cell_type": "code",
   "execution_count": null,
   "id": "d3699e0a-7e8b-4ce4-bc89-15d0d420450b",
   "metadata": {},
   "outputs": [],
   "source": [
    "numeros.remove(32)  # Recibe como argumento un valor y lo borra de la lista."
   ]
  },
  {
   "cell_type": "code",
   "execution_count": null,
   "id": "a6033524-2f34-4e1b-84e1-55619b295fdf",
   "metadata": {},
   "outputs": [],
   "source": [
    "numeros"
   ]
  },
  {
   "cell_type": "code",
   "execution_count": null,
   "id": "1e310b20-5c62-4766-880d-821a5d531a2d",
   "metadata": {},
   "outputs": [],
   "source": [
    "numeros.pop()  # Elimina por defecto el último elemento de la lista"
   ]
  },
  {
   "cell_type": "code",
   "execution_count": null,
   "id": "1394c990-3aa9-4c5f-a2f7-9a7b3ab9e29a",
   "metadata": {},
   "outputs": [],
   "source": [
    "del(numeros[3]) # del() elimina un elemento de la lista según su posición."
   ]
  },
  {
   "cell_type": "code",
   "execution_count": null,
   "id": "eb7a2282-4f24-486c-bf57-8b1fce363438",
   "metadata": {},
   "outputs": [],
   "source": [
    "numeros"
   ]
  },
  {
   "cell_type": "code",
   "execution_count": null,
   "id": "2db67f3f-6af7-44e0-9498-f4385f77a40c",
   "metadata": {},
   "outputs": [],
   "source": [
    "numeros.sort()  # Ordena los elementos de menos a mayor por defecto."
   ]
  },
  {
   "cell_type": "code",
   "execution_count": null,
   "id": "c91d7ebb-cced-46b1-953d-00826acc0fbe",
   "metadata": {},
   "outputs": [],
   "source": [
    "numeros"
   ]
  },
  {
   "cell_type": "markdown",
   "id": "761188ac-804f-4ee3-a36b-6a2f5a2bf1de",
   "metadata": {},
   "source": [
    "## Diccionarios"
   ]
  },
  {
   "cell_type": "markdown",
   "id": "a04297bd-8247-49fb-b754-cc06f347ea8c",
   "metadata": {},
   "source": [
    "<span>Es una colección de elementos, donde cada uno tiene una llave <strong>key</strong> y un valor <strong>value</strong>. Los <b>diccionarios</b> se pueden crear con paréntesis <strong>{}</strong> separando con una coma cada par <strong>key: value</strong>.</span>"
   ]
  },
  {
   "cell_type": "code",
   "execution_count": null,
   "id": "d6cd8a21-fb51-488d-9f33-0e8f359b51cf",
   "metadata": {},
   "outputs": [],
   "source": [
    "persona = {\n",
    "    'id' : 100,\n",
    "    'nombre' : 'José Suarez',\n",
    "    'edad' : 25\n",
    "}"
   ]
  },
  {
   "cell_type": "code",
   "execution_count": null,
   "id": "340d0ce1-84a8-45d3-881d-e9013b544bd1",
   "metadata": {},
   "outputs": [],
   "source": [
    "persona"
   ]
  },
  {
   "cell_type": "markdown",
   "id": "fc4e0aee-199e-46b6-905b-ca480b93ff7c",
   "metadata": {},
   "source": [
    "##### Algunas propiedades de los diccionario en Python:\n"
   ]
  },
  {
   "cell_type": "markdown",
   "id": "073cf37e-e06f-4350-a691-193061754540",
   "metadata": {},
   "source": [
    "<li>Son <b>dinámicos</b>, pueden crecer o decrecer, se pueden añadir o eliminar elementos.</li>"
   ]
  },
  {
   "cell_type": "markdown",
   "id": "a3a02093-4113-4721-9ca5-bc4a73890bd2",
   "metadata": {},
   "source": [
    "<li> Son <b>indexados</b>, los elementos del diccionario son accesibles a través del <b>key</b>.</li>"
   ]
  },
  {
   "cell_type": "markdown",
   "id": "8a1f2175-e3c0-463f-83dd-dcbeabde8c5b",
   "metadata": {},
   "source": [
    "<li> Y son <b>anidados</b>, un diccionario puede contener a otro diccionario en su campo <b>value</b>.</li>"
   ]
  },
  {
   "cell_type": "markdown",
   "id": "d0cf3f55-6a9b-4b06-9e4c-1a21bab2d65c",
   "metadata": {},
   "source": [
    "### Acceder y modificar elementos"
   ]
  },
  {
   "cell_type": "code",
   "execution_count": null,
   "id": "2e344a36-1b07-4241-a0f0-e798744ba3f6",
   "metadata": {},
   "outputs": [],
   "source": [
    "persona['nombre']"
   ]
  },
  {
   "cell_type": "code",
   "execution_count": null,
   "id": "bc46183e-9f95-4b5a-8934-8815516e55d1",
   "metadata": {},
   "outputs": [],
   "source": [
    "persona.get('nombre')"
   ]
  },
  {
   "cell_type": "code",
   "execution_count": null,
   "id": "7f247f90-3f48-42de-8f11-675c4ec01296",
   "metadata": {},
   "outputs": [],
   "source": [
    "persona['nombre'] = 'Martha Lopez'"
   ]
  },
  {
   "cell_type": "code",
   "execution_count": null,
   "id": "d4a62865-a517-4e91-8753-432e421fe7de",
   "metadata": {},
   "outputs": [],
   "source": [
    "persona"
   ]
  },
  {
   "cell_type": "code",
   "execution_count": null,
   "id": "aa417658-bae8-4abc-8645-200a4fba153e",
   "metadata": {},
   "outputs": [],
   "source": [
    "persona['direccion'] = 'Av. 10 Agostro 534'  # Si el key al que accedemos no existe, se añade automáticamente."
   ]
  },
  {
   "cell_type": "code",
   "execution_count": null,
   "id": "d0af806b-3123-45ff-b808-3fd850533413",
   "metadata": {},
   "outputs": [],
   "source": [
    "persona"
   ]
  },
  {
   "cell_type": "markdown",
   "id": "e82f271a-98cf-4cc8-94cf-0c47cf1b3169",
   "metadata": {},
   "source": [
    "### Iterar diccionario"
   ]
  },
  {
   "cell_type": "markdown",
   "id": "0f972159-5b0c-46b2-ac0b-b01a0f345bdd",
   "metadata": {},
   "source": [
    "<span>Los diccionarios se pueden iterar de manera muy similar a las listas u otras estructuras de datos. Para imprimir los key.</span>"
   ]
  },
  {
   "cell_type": "code",
   "execution_count": null,
   "id": "526aaacf-e950-42a2-8a52-466fdca19f94",
   "metadata": {},
   "outputs": [],
   "source": [
    "# Imprime los key del diccionario\n",
    "for x in persona:\n",
    "    print(x)"
   ]
  },
  {
   "cell_type": "code",
   "execution_count": null,
   "id": "53607204-edc6-47e2-926d-0a56075ae5f5",
   "metadata": {},
   "outputs": [],
   "source": [
    "# Impre los value del diccionario\n",
    "for x in persona:\n",
    "    print(persona[x])"
   ]
  },
  {
   "cell_type": "code",
   "execution_count": null,
   "id": "7cc0c450-828b-4a26-b7a3-b4e2fc9ea853",
   "metadata": {},
   "outputs": [],
   "source": [
    "# Imprime los key y value del diccionario\n",
    "for llave, valor in persona.items():\n",
    "    print(f'Su {llave} es {valor}')"
   ]
  },
  {
   "cell_type": "markdown",
   "id": "33c9522d-03f4-4874-93ef-dc3e8d2bcf59",
   "metadata": {},
   "source": [
    "## Tomar decisiones con Condicionales "
   ]
  },
  {
   "cell_type": "markdown",
   "id": "06b84afc-f869-4184-9dfc-35631d9d49f9",
   "metadata": {},
   "source": [
    "<span>La estructura condicional <b>if</b> se usa para tomar decisiones, esta evalua básicamente una <i>expresión lógica</i>, es decir una expresión que entrega como resultado un <b>True</b> o <b>False</b>, y se ejecuta el fragmento de código siguiente siempre y cuando el resultado se verdadero | <b>True</b>.</span>"
   ]
  },
  {
   "cell_type": "markdown",
   "id": "c1b24e9f-248d-467f-a3a4-52c160cbb5ba",
   "metadata": {},
   "source": [
    "##### if <primera_condición> :\n",
    "###### &nbsp;&nbsp;&nbsp;&nbsp;[fragmento_código_ejecutar]\n",
    "##### elif <segunda_condición> :\n",
    "###### &nbsp;&nbsp;&nbsp;&nbsp;[fragmento_código_ejecutar]\n",
    "##### else:\n",
    "###### &nbsp;&nbsp;&nbsp;&nbsp;[fragmento_código_ejecutar_si_todas_no_ejecutaron]"
   ]
  },
  {
   "cell_type": "markdown",
   "id": "148782b2-00ca-48c8-bff6-1ca810cab70a",
   "metadata": {},
   "source": [
    "<img src='./image/if-python.png' />"
   ]
  },
  {
   "cell_type": "markdown",
   "id": "f6ab719c-a788-4474-9c4a-246cc4d3607f",
   "metadata": {},
   "source": [
    "### Uso del if."
   ]
  },
  {
   "cell_type": "code",
   "execution_count": null,
   "id": "8ba98131-30d1-4893-b957-6930ca943ced",
   "metadata": {},
   "outputs": [],
   "source": [
    "edad = 17\n",
    "if edad >= 18:\n",
    "    print('Su edad es {edad} años, usted es mayor de edad..!')"
   ]
  },
  {
   "cell_type": "markdown",
   "id": "53cc421a-d50d-47c9-823c-4cbb8db91c68",
   "metadata": {},
   "source": [
    "### Uso del elif."
   ]
  },
  {
   "cell_type": "code",
   "execution_count": null,
   "id": "e6390574-d719-4e26-be94-1a315d5cd5fd",
   "metadata": {},
   "outputs": [],
   "source": [
    "x = 100\n",
    "y = 20\n",
    "if y > x:\n",
    "    print(' Y es mayor que X')\n",
    "elif x > y:\n",
    "    print(' X es mayor que Y ')"
   ]
  },
  {
   "cell_type": "markdown",
   "id": "bb6d0405-b952-464e-a2bd-f7710cc9455c",
   "metadata": {},
   "source": [
    "### Uso del else."
   ]
  },
  {
   "cell_type": "code",
   "execution_count": null,
   "id": "e2c317a1-7dca-411b-9112-e4b6838e7cd2",
   "metadata": {},
   "outputs": [],
   "source": [
    "x = 100\n",
    "y = 100\n",
    "if y > x:\n",
    "    print(' Y es mayor que X')\n",
    "elif x > y:\n",
    "    print(' X es mayor que Y ')\n",
    "else:\n",
    "     print(' X es igual que Y ')"
   ]
  },
  {
   "cell_type": "markdown",
   "id": "fe9ac52e-bb06-4061-bc3e-cee46752c9e9",
   "metadata": {},
   "source": [
    "## Repetir Acciones con Bucles | Loops"
   ]
  },
  {
   "cell_type": "markdown",
   "id": "796c0923-2324-4984-9bbb-58d851307816",
   "metadata": {},
   "source": [
    "<img src='./image/bucles-python.png'>"
   ]
  },
  {
   "cell_type": "markdown",
   "id": "41cdb2ee-2036-48c0-9f5e-0876e677ecdb",
   "metadata": {},
   "source": [
    "### Bucle While"
   ]
  },
  {
   "cell_type": "markdown",
   "id": "c989b1a4-94a1-46d3-8039-da66b95de2f8",
   "metadata": {},
   "source": [
    "<span>El bucle \"while\" en Python nos permite ejecutar un bloque de código múltiples veces. Este bucle nos permite realizar múltiples iteraciones basándonos en el resultado de una <b>expresión lógica</b> que puede tener como resultado un valor True o False.</span>"
   ]
  },
  {
   "cell_type": "code",
   "execution_count": null,
   "id": "6feb87fe-d04c-4b83-9e0c-baa8ec500db5",
   "metadata": {},
   "outputs": [],
   "source": [
    "i = 0\n",
    "while i <= 5:\n",
    "    print(i)\n",
    "    i += 1"
   ]
  },
  {
   "cell_type": "code",
   "execution_count": null,
   "id": "6dfde00a-24ea-424c-8626-31be987a8465",
   "metadata": {},
   "outputs": [],
   "source": [
    "i = 0\n",
    "while (i < 2):\n",
    "    print('i es menor que 2')\n",
    "    i += 1\n",
    "else:\n",
    "    print('la condición es falsa')"
   ]
  },
  {
   "cell_type": "markdown",
   "id": "85fa6905-5994-4634-9baa-67f97addd267",
   "metadata": {},
   "source": [
    "### Bucle For"
   ]
  },
  {
   "cell_type": "markdown",
   "id": "56071156-9b85-4e74-97af-7ff59c27f6a1",
   "metadata": {},
   "source": [
    "<span>El bucle <b>for</b> en python difiere un poco de lo que estamos acostumbrado en otros lenguajes de programación. <b>(a)</b> En lugar de siempre iterar sobre una progresión aritmética de números (como en Java), <b>(b)</b> Darle al usuario la posibilidad de definir tanto el paso de la iteración como la condición de fin (como en C, C++). El bucle <b>for</b> en Python itera sobre los ítems de cualquier secuencia (lista, cadena de caracteres), en el orden que aparece la secuencia. </span>"
   ]
  },
  {
   "cell_type": "code",
   "execution_count": null,
   "id": "615b9e3b-c8ca-4e65-8a1e-930cdf7bb917",
   "metadata": {
    "scrolled": true
   },
   "outputs": [],
   "source": [
    "usuarios = ['Ana','Jackie','Sofia', 'Ruddy']\n",
    "for usuario in usuarios:\n",
    "    print(usuario)"
   ]
  },
  {
   "cell_type": "code",
   "execution_count": null,
   "id": "bda55a8b-4109-49c5-8f75-2a1fbeab1ac1",
   "metadata": {},
   "outputs": [],
   "source": [
    "valores = [1,2,3,4,5,6,7,8,9,10]\n",
    "for valor in valores:\n",
    "    if valor % 2 == 0:\n",
    "        print(f'El {valor} es PAR.')\n",
    "    elif valor % 2 != 0:\n",
    "        print(f'El {valor} es IMPAR.')\n",
    "        "
   ]
  },
  {
   "cell_type": "markdown",
   "id": "43c96b9b-fe29-4409-944a-cba373875512",
   "metadata": {},
   "source": [
    "## Creando Funciones."
   ]
  },
  {
   "cell_type": "markdown",
   "id": "de7eeacd-df0c-4f60-80dd-5d7d83b5ad3e",
   "metadata": {},
   "source": [
    "<span>Una función es un bloque de código con un nombre asociado, que recibe cero o más argumentos como entrada, ejecuta una secuencia de sentencias y retorna un valor y/o realiza una tarea, este bloque puede ser llamado cuando se necesita por medio de su nombre.</span>"
   ]
  },
  {
   "cell_type": "markdown",
   "id": "da652ba2-1774-48fb-bf56-9d6db773577b",
   "metadata": {},
   "source": [
    "<img src=\"./image/creando_funcion.png\" />"
   ]
  },
  {
   "cell_type": "code",
   "execution_count": null,
   "id": "629e19ee-36f8-4032-ae6f-b383173b57f1",
   "metadata": {},
   "outputs": [],
   "source": [
    "# Definimos la función\n",
    "def saludo (persona):\n",
    "    print(f'Hola, {persona}')\n",
    "\n",
    "# Llamado a la función\n",
    "saludo('Martha')"
   ]
  },
  {
   "cell_type": "code",
   "execution_count": null,
   "id": "8b3248ae-e238-4070-aa2d-76bd3cbe566f",
   "metadata": {},
   "outputs": [],
   "source": [
    "def f_a_c(temperatura):\n",
    "    return int((temperatura -32) * (5/9))\n",
    "\n",
    "frio = f_a_c(32)\n",
    "calor = f_a_c(212)"
   ]
  },
  {
   "cell_type": "code",
   "execution_count": null,
   "id": "073a3e36-b216-4d89-b574-bd6d98193b84",
   "metadata": {},
   "outputs": [],
   "source": [
    "print(f'El clima esta frio: {frio} C')\n",
    "print(f'El clima esta calor: {calor} C')"
   ]
  },
  {
   "cell_type": "markdown",
   "id": "9e4cfd9e-811b-4876-8553-3adffc26bd02",
   "metadata": {},
   "source": [
    "## Errores y Excepciones"
   ]
  },
  {
   "cell_type": "markdown",
   "id": "0871d41c-3052-41fe-b6f0-efdfecd0c4e0",
   "metadata": {},
   "source": [
    "<span>Incluso si una declaración o expresión es *sintácticamente correcta*, puede generar un error cuando se intenta ejecutar. Los *errores detectados durante la ejecución* se llaman **excepciones**, y no son incondicionalmente fatales.\n",
    "La mayoría de las excepciones no son gestionadas por el código. </span>"
   ]
  },
  {
   "cell_type": "markdown",
   "id": "878a1b2f-a8d2-4fb1-8377-4d31fb9048a5",
   "metadata": {},
   "source": [
    "#### Ejemplos:"
   ]
  },
  {
   "cell_type": "code",
   "execution_count": null,
   "id": "8cf8f0bc-46b1-42cd-8285-72ed3a5c0a9c",
   "metadata": {},
   "outputs": [],
   "source": [
    "10 * (1/0)"
   ]
  },
  {
   "cell_type": "code",
   "execution_count": null,
   "id": "ef4d1a9d-ebba-44e9-b683-69e52acadea0",
   "metadata": {},
   "outputs": [],
   "source": [
    "4 + spam*3"
   ]
  },
  {
   "cell_type": "code",
   "execution_count": null,
   "id": "f8c981bd-ee06-41a1-aac2-eeeeee267f90",
   "metadata": {},
   "outputs": [],
   "source": [
    "'2' + 2"
   ]
  },
  {
   "cell_type": "markdown",
   "id": "4a6e9bc2-182c-4a42-b64c-509a4115725a",
   "metadata": {},
   "source": [
    "#### Gestionando excepciones"
   ]
  },
  {
   "cell_type": "code",
   "execution_count": null,
   "id": "6dbbebac-5761-47a5-b9f1-1e8b0eb236c4",
   "metadata": {},
   "outputs": [],
   "source": [
    "# Gestión de excepciones en Python\n",
    "try:\n",
    "  print(x)\n",
    "except:\n",
    "  print(\"Ocurrió un error\")"
   ]
  },
  {
   "cell_type": "markdown",
   "id": "b3f9b03e-27bd-4f67-b83a-9bb5859f5285",
   "metadata": {},
   "source": [
    "<span>La sentencia **try** funciona de la siguiente manera:\n",
    "</span>"
   ]
  },
  {
   "cell_type": "markdown",
   "id": "0b6388f4-df7c-4a81-8e6e-67f6ff640d6d",
   "metadata": {},
   "source": [
    "1. Ejecuta la cláusula **try** (código entre try y except).\n",
    "2. Si no ocurre ninguna excepción, la cláusula except se omite y la ejecución de la cláusula try finaliza.\n",
    "3. Si ocurre una excepción durante la ejecución de la cláusula try, se ejecuta la cláusula except, en este caso se imprime el mensaje \"Ocurrió un error\".\n",
    "   >>"
   ]
  },
  {
   "cell_type": "markdown",
   "id": "4954aa17-5b3a-4ed7-b573-c53f9a4b1103",
   "metadata": {},
   "source": [
    "#### Lanzando excepciones"
   ]
  },
  {
   "cell_type": "markdown",
   "id": "52cb1149-d8e3-4b2f-a354-825947f6a78c",
   "metadata": {},
   "source": [
    "<span>La declaración **raise** permite al programador forzar a que ocurra una excepción específica.</span>"
   ]
  },
  {
   "cell_type": "markdown",
   "id": "296f5d52-1809-4d9e-958e-4a7221f2a20f",
   "metadata": {},
   "source": [
    "<span>Ejemplo:</span>"
   ]
  },
  {
   "cell_type": "code",
   "execution_count": null,
   "id": "a1c01e1f-ddfe-458c-ad7a-87734bdedfff",
   "metadata": {
    "scrolled": true
   },
   "outputs": [],
   "source": [
    "x = -1\n",
    "if x < 0:\n",
    "    raise Exception(\"El número no puede ser negativo\")"
   ]
  },
  {
   "cell_type": "markdown",
   "id": "ee146441-9775-4742-b0e1-9592f461d927",
   "metadata": {},
   "source": [
    "## Módulos."
   ]
  },
  {
   "cell_type": "markdown",
   "id": "0d3795c8-c2e0-4623-bb77-5bdd02140902",
   "metadata": {
    "jp-MarkdownHeadingCollapsed": true
   },
   "source": [
    "<span>Un módulo es un archivo que contiene definiciones y declaraciones de Python. El archivo debe tener una extensión .py. Las definiciones de un módulo pueden ser importadas a otros módulos o al programa principal.</span>"
   ]
  },
  {
   "cell_type": "markdown",
   "id": "3b64684c-4a8e-4f46-9c69-7135a803d598",
   "metadata": {},
   "source": [
    "#### Creación de Módulos"
   ]
  },
  {
   "cell_type": "markdown",
   "id": "71e6ec21-e12d-43ae-9ea0-3bb70d66b28f",
   "metadata": {},
   "source": [
    "<span>Para crear un módulo, simplemente se crea un archivo con extensión .py y se definen las funciones y variables que se desean exportar.</span>"
   ]
  },
  {
   "cell_type": "code",
   "execution_count": null,
   "id": "4c6fad56-ae76-45f7-925d-108a8bea3c53",
   "metadata": {},
   "outputs": [],
   "source": [
    "# modulo.py\n",
    "def saludar():\n",
    "    print(\"Hola, bienvenido a Python\")"
   ]
  },
  {
   "cell_type": "markdown",
   "id": "4922693f-2df4-46ef-801e-2917d5807bc4",
   "metadata": {},
   "source": [
    "#### Uso de Módulos"
   ]
  },
  {
   "cell_type": "markdown",
   "id": "03d28394-3d11-4f33-b40e-624358e78e5a",
   "metadata": {},
   "source": [
    "<span>Para usar un *módulo*, se utiliza la palabra reservada **import** seguida del nombre del módulo.</span>"
   ]
  },
  {
   "cell_type": "code",
   "execution_count": null,
   "id": "a1135fe2-14c0-43c7-b0bf-bd23658deb68",
   "metadata": {
    "scrolled": true
   },
   "outputs": [],
   "source": [
    "# programa.py\n",
    "import modulo\n",
    "\n",
    "modulo.saludar()"
   ]
  },
  {
   "cell_type": "markdown",
   "id": "2128b46e-4227-4e65-a9ec-59ddf75c3701",
   "metadata": {},
   "source": [
    "#### Importar Funciones Específicas"
   ]
  },
  {
   "cell_type": "markdown",
   "id": "63552a46-224f-48e6-a2e2-ff9c11b07811",
   "metadata": {},
   "source": [
    "<span>También es posible importar *funciones específicas* de un módulo.</span>"
   ]
  },
  {
   "cell_type": "code",
   "execution_count": null,
   "id": "4fb00ce9-bd31-4fa5-bda6-6ab8892572a8",
   "metadata": {},
   "outputs": [],
   "source": [
    "# programa.py\n",
    "from modulo import saludar\n",
    "\n",
    "saludar()"
   ]
  },
  {
   "cell_type": "markdown",
   "id": "4bd236d6-323d-4cbc-b4c8-a800534237bd",
   "metadata": {},
   "source": [
    "#### Importar con Alias"
   ]
  },
  {
   "cell_type": "markdown",
   "id": "d37e8f3f-3bcf-48d5-8efe-ece9cc27881b",
   "metadata": {},
   "source": [
    "<span>Es posible importar un módulo o función con un alias.</span>"
   ]
  },
  {
   "cell_type": "code",
   "execution_count": null,
   "id": "7da46cf4-651c-4938-80c1-2d49a3fbeece",
   "metadata": {},
   "outputs": [],
   "source": [
    "# programa.py\n",
    "import modulo as m\n",
    "\n",
    "m.saludar()"
   ]
  },
  {
   "cell_type": "markdown",
   "id": "a2b3eb25-a396-4a8f-bfae-474bdd7ffcf8",
   "metadata": {},
   "source": [
    "#### Importar Todas las Funciones"
   ]
  },
  {
   "cell_type": "markdown",
   "id": "c4accb50-59d3-41f5-b4e6-f5c132bcca70",
   "metadata": {},
   "source": [
    "<span>También es posible importar todas las funciones de un módulo.</span>"
   ]
  },
  {
   "cell_type": "code",
   "execution_count": null,
   "id": "9f8183dd-f354-4059-91fb-6635b6054c51",
   "metadata": {},
   "outputs": [],
   "source": [
    "# programa.py\n",
    "from modulo import *\n",
    "\n",
    "saludar()"
   ]
  },
  {
   "cell_type": "markdown",
   "id": "5b48c6ba-04a8-439d-a1de-ce90f15534d1",
   "metadata": {},
   "source": [
    "#### Ejercicio:"
   ]
  },
  {
   "cell_type": "markdown",
   "id": "a7c68ef5-e733-445d-b28a-0c4c2e76668e",
   "metadata": {},
   "source": [
    "<span>Crear un módulo llamado operaciones.py que contenga las siguientes funciones:</span>"
   ]
  },
  {
   "cell_type": "markdown",
   "id": "0efcb39a-876b-4ebb-9611-ab915394234a",
   "metadata": {},
   "source": [
    "<li> suma(a, b): Retorna la suma de a y b</li>\n",
    "<li> resta(a, b): Retorna la resta de a y b</li>\n",
    "<li> multiplicacion(a, b): Retorna la multiplicación de a y b</li>\n",
    "<li> division(a, b): Retorna la división de a y b</li>"
   ]
  },
  {
   "cell_type": "markdown",
   "id": "41173083-83e0-40ee-a8dd-a1ebc9f248ca",
   "metadata": {},
   "source": [
    "<span>Luego crearemos programa.py desde donde importaremos todas las funciones mediante un alias, para luego ejecutar cada una de las funciones importadas</span>"
   ]
  },
  {
   "cell_type": "markdown",
   "id": "92da269e-3eb3-4325-bf0b-db042ad94d03",
   "metadata": {},
   "source": [
    "## Paquetes"
   ]
  },
  {
   "cell_type": "markdown",
   "id": "260cc2c5-39e1-477d-a1b0-e3c3c4177836",
   "metadata": {},
   "source": [
    "<span>Un **paquete** es un conjunto de módulos organizados en un directorio. Un paquete debe contener un archivo llamado *init.py*. Este archivo puede estar vacío o contener código de inicialización del paquete.</span>"
   ]
  },
  {
   "cell_type": "markdown",
   "id": "c9de086b-5df9-48c0-ae93-97bd4da8d960",
   "metadata": {},
   "source": [
    "##### Ejemplo:"
   ]
  },
  {
   "cell_type": "markdown",
   "id": "7c0a2d0a-3d71-491a-ab37-9b9269ed026c",
   "metadata": {},
   "source": [
    "<img src=\"./image/paquete-python.png\" />"
   ]
  },
  {
   "cell_type": "code",
   "execution_count": null,
   "id": "bdb4d022-2418-415c-9ab4-8123931e272e",
   "metadata": {},
   "outputs": [],
   "source": [
    "# modulo1.py\n",
    "def saludar():\n",
    "    print(\"Hola, bienvenido a Python\")"
   ]
  },
  {
   "cell_type": "code",
   "execution_count": null,
   "id": "2fbf8490-5f6e-4316-b6bd-051d73e322f7",
   "metadata": {},
   "outputs": [],
   "source": [
    "# modulo2.py\n",
    "def despedir():\n",
    "    print(\"Adiós, hasta luego\")"
   ]
  },
  {
   "cell_type": "code",
   "execution_count": null,
   "id": "1a3217ea-7cb2-428d-bde4-aab6e5fece2c",
   "metadata": {},
   "outputs": [],
   "source": [
    "# programa.py\n",
    "from paquete import modulo1, modulo2\n",
    "\n",
    "modulo1.saludar()\n",
    "modulo2.despedir()"
   ]
  },
  {
   "cell_type": "markdown",
   "id": "e6510967-be55-4796-8aa3-b43f32f98bf8",
   "metadata": {},
   "source": [
    "### Uso de Paquetes"
   ]
  },
  {
   "cell_type": "markdown",
   "id": "6a81a17f-3119-47d7-aefb-7d228035a132",
   "metadata": {},
   "source": [
    "<span>Para usar un *paquete*, se utiliza la palabra reservada **import** seguida del nombre del paquete y el nombre del módulo.</span>"
   ]
  },
  {
   "cell_type": "code",
   "execution_count": null,
   "id": "d9b6f69b-761f-4766-90d3-3b8accd57d85",
   "metadata": {},
   "outputs": [],
   "source": [
    "# programa.py\n",
    "\n",
    "from paquete import modulo1, modulo2\n",
    "\n",
    "modulo1.saludar()\n",
    "modulo2.despedir()"
   ]
  },
  {
   "cell_type": "markdown",
   "id": "8385d2e3-1064-4cb6-9f3a-57b22d4ada4d",
   "metadata": {},
   "source": [
    "### Importar con Alias"
   ]
  },
  {
   "cell_type": "markdown",
   "id": "18a540d5-c0ed-4729-b504-6c3bae714b87",
   "metadata": {},
   "source": [
    "<span>Es posible importar un paquete con un alias.</span>\n"
   ]
  },
  {
   "cell_type": "code",
   "execution_count": null,
   "id": "6cc9ebc1-71f5-4cb8-9f70-7192e623ef71",
   "metadata": {},
   "outputs": [],
   "source": [
    "from paquete import modulo1 as m1, modulo2 as m2\n",
    "\n",
    "m1.saludar()\n",
    "m2.despedir()"
   ]
  },
  {
   "cell_type": "markdown",
   "id": "73f7e4a1-6b01-417e-8643-703af1052ab2",
   "metadata": {},
   "source": [
    "### Importar Todas las Funciones"
   ]
  },
  {
   "cell_type": "markdown",
   "id": "35a2c0aa-e63d-497b-b082-149d6256cb0b",
   "metadata": {},
   "source": [
    "<span>También es posible importar todas las funciones de un paquete.</span>"
   ]
  },
  {
   "cell_type": "code",
   "execution_count": null,
   "id": "5b86ea3d-69ab-4107-b6fb-8a23601fc710",
   "metadata": {
    "scrolled": true
   },
   "outputs": [],
   "source": [
    "# programa.py\n",
    "\n",
    "from paquete.modulo1 import *\n",
    "\n",
    "saludar()"
   ]
  },
  {
   "cell_type": "markdown",
   "id": "fdf167fa-326e-457d-ac6d-f9f362510f17",
   "metadata": {},
   "source": [
    "#### Analizar: Calculadora Pythonica vrs 1.0"
   ]
  },
  {
   "cell_type": "markdown",
   "id": "83166ec4-a256-4d9c-9208-dfe8cf06b4f6",
   "metadata": {},
   "source": [
    "<a href=\"https://github.com/maxTech2019/Lab-modulos-paquetes-python.git\">Calculadora Pythonica vrs 1.0</a>"
   ]
  },
  {
   "cell_type": "markdown",
   "id": "2aa27591-559a-4ad6-b606-2a9f45057171",
   "metadata": {},
   "source": [
    "# Gracias por su atención!"
   ]
  }
 ],
 "metadata": {
  "kernelspec": {
   "display_name": "Python 3 (ipykernel)",
   "language": "python",
   "name": "python3"
  },
  "language_info": {
   "codemirror_mode": {
    "name": "ipython",
    "version": 3
   },
   "file_extension": ".py",
   "mimetype": "text/x-python",
   "name": "python",
   "nbconvert_exporter": "python",
   "pygments_lexer": "ipython3",
   "version": "3.11.7"
  }
 },
 "nbformat": 4,
 "nbformat_minor": 5
}
